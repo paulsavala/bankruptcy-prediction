{
  "cells": [
    {
      "cell_type": "code",
      "execution_count": 1,
      "metadata": {
        "id": "A0V1FLIDsWlC"
      },
      "outputs": [],
      "source": [
        "import pandas as pd\n",
        "import numpy as np\n",
        "from sklearn.preprocessing import StandardScaler, LabelEncoder"
      ]
    },
    {
      "cell_type": "markdown",
      "metadata": {
        "id": "GYPiDxvFwK7P"
      },
      "source": [
        "# Data loading and cleaning"
      ]
    },
    {
      "cell_type": "code",
      "execution_count": 2,
      "metadata": {
        "id": "QYnB48_eq-Q9"
      },
      "outputs": [],
      "source": [
        "df = pd.read_csv('data/american_bankruptcy_dataset.csv')"
      ]
    },
    {
      "cell_type": "code",
      "execution_count": 3,
      "metadata": {
        "colab": {
          "base_uri": "https://localhost:8080/",
          "height": 236
        },
        "id": "82z_8rbSrNNs",
        "outputId": "5a046c70-12d7-49f4-be2b-c7fdab89c726"
      },
      "outputs": [
        {
          "data": {
            "text/html": [
              "<div>\n",
              "<style scoped>\n",
              "    .dataframe tbody tr th:only-of-type {\n",
              "        vertical-align: middle;\n",
              "    }\n",
              "\n",
              "    .dataframe tbody tr th {\n",
              "        vertical-align: top;\n",
              "    }\n",
              "\n",
              "    .dataframe thead th {\n",
              "        text-align: right;\n",
              "    }\n",
              "</style>\n",
              "<table border=\"1\" class=\"dataframe\">\n",
              "  <thead>\n",
              "    <tr style=\"text-align: right;\">\n",
              "      <th></th>\n",
              "      <th>company_name</th>\n",
              "      <th>fyear</th>\n",
              "      <th>status_label</th>\n",
              "      <th>X1</th>\n",
              "      <th>X2</th>\n",
              "      <th>X3</th>\n",
              "      <th>X4</th>\n",
              "      <th>X5</th>\n",
              "      <th>X6</th>\n",
              "      <th>X7</th>\n",
              "      <th>...</th>\n",
              "      <th>X11</th>\n",
              "      <th>X12</th>\n",
              "      <th>X13</th>\n",
              "      <th>X14</th>\n",
              "      <th>X15</th>\n",
              "      <th>X16</th>\n",
              "      <th>X17</th>\n",
              "      <th>X18</th>\n",
              "      <th>Division</th>\n",
              "      <th>MajorGroup</th>\n",
              "    </tr>\n",
              "  </thead>\n",
              "  <tbody>\n",
              "    <tr>\n",
              "      <th>0</th>\n",
              "      <td>C_1</td>\n",
              "      <td>1999.0</td>\n",
              "      <td>alive</td>\n",
              "      <td>511267.0</td>\n",
              "      <td>740998.000</td>\n",
              "      <td>833107.0</td>\n",
              "      <td>180447.0</td>\n",
              "      <td>18373.00</td>\n",
              "      <td>70658.00</td>\n",
              "      <td>89031.000</td>\n",
              "      <td>...</td>\n",
              "      <td>35.163</td>\n",
              "      <td>201026.000</td>\n",
              "      <td>128.348</td>\n",
              "      <td>1024333.000</td>\n",
              "      <td>372.7519</td>\n",
              "      <td>401483.0</td>\n",
              "      <td>1024333.000</td>\n",
              "      <td>935302.0</td>\n",
              "      <td>D</td>\n",
              "      <td>37</td>\n",
              "    </tr>\n",
              "    <tr>\n",
              "      <th>1</th>\n",
              "      <td>C_1</td>\n",
              "      <td>2000.0</td>\n",
              "      <td>alive</td>\n",
              "      <td>485856.0</td>\n",
              "      <td>701.854</td>\n",
              "      <td>713811.0</td>\n",
              "      <td>179987.0</td>\n",
              "      <td>18577.00</td>\n",
              "      <td>45.79</td>\n",
              "      <td>64367.000</td>\n",
              "      <td>...</td>\n",
              "      <td>18531.000</td>\n",
              "      <td>204065.000</td>\n",
              "      <td>115187.000</td>\n",
              "      <td>874255.000</td>\n",
              "      <td>377.1180</td>\n",
              "      <td>361642.0</td>\n",
              "      <td>874255.000</td>\n",
              "      <td>809888.0</td>\n",
              "      <td>D</td>\n",
              "      <td>37</td>\n",
              "    </tr>\n",
              "    <tr>\n",
              "      <th>2</th>\n",
              "      <td>C_1</td>\n",
              "      <td>2001.0</td>\n",
              "      <td>alive</td>\n",
              "      <td>436656.0</td>\n",
              "      <td>710199.000</td>\n",
              "      <td>526477.0</td>\n",
              "      <td>217699.0</td>\n",
              "      <td>22496.00</td>\n",
              "      <td>4711.00</td>\n",
              "      <td>27207.000</td>\n",
              "      <td>...</td>\n",
              "      <td>-58.939</td>\n",
              "      <td>139.603</td>\n",
              "      <td>77528.000</td>\n",
              "      <td>638721.000</td>\n",
              "      <td>364.5928</td>\n",
              "      <td>399964.0</td>\n",
              "      <td>638721.000</td>\n",
              "      <td>611514.0</td>\n",
              "      <td>D</td>\n",
              "      <td>37</td>\n",
              "    </tr>\n",
              "    <tr>\n",
              "      <th>3</th>\n",
              "      <td>C_1</td>\n",
              "      <td>2002.0</td>\n",
              "      <td>alive</td>\n",
              "      <td>396412.0</td>\n",
              "      <td>686.621</td>\n",
              "      <td>496747.0</td>\n",
              "      <td>164658.0</td>\n",
              "      <td>27172.00</td>\n",
              "      <td>3573.00</td>\n",
              "      <td>30745.000</td>\n",
              "      <td>...</td>\n",
              "      <td>-12.410</td>\n",
              "      <td>124106.000</td>\n",
              "      <td>66322.000</td>\n",
              "      <td>606337.000</td>\n",
              "      <td>143.3295</td>\n",
              "      <td>391633.0</td>\n",
              "      <td>606337.000</td>\n",
              "      <td>575592.0</td>\n",
              "      <td>D</td>\n",
              "      <td>37</td>\n",
              "    </tr>\n",
              "    <tr>\n",
              "      <th>4</th>\n",
              "      <td>C_1</td>\n",
              "      <td>2003.0</td>\n",
              "      <td>alive</td>\n",
              "      <td>432204.0</td>\n",
              "      <td>709.292</td>\n",
              "      <td>523302.0</td>\n",
              "      <td>248666.0</td>\n",
              "      <td>26.68</td>\n",
              "      <td>20811.00</td>\n",
              "      <td>47.491</td>\n",
              "      <td>...</td>\n",
              "      <td>3504.000</td>\n",
              "      <td>131884.000</td>\n",
              "      <td>104661.000</td>\n",
              "      <td>651.958</td>\n",
              "      <td>308.9071</td>\n",
              "      <td>407608.0</td>\n",
              "      <td>651.958</td>\n",
              "      <td>604467.0</td>\n",
              "      <td>D</td>\n",
              "      <td>37</td>\n",
              "    </tr>\n",
              "  </tbody>\n",
              "</table>\n",
              "<p>5 rows × 23 columns</p>\n",
              "</div>"
            ],
            "text/plain": [
              "  company_name   fyear status_label        X1          X2        X3        X4  \\\n",
              "0          C_1  1999.0        alive  511267.0  740998.000  833107.0  180447.0   \n",
              "1          C_1  2000.0        alive  485856.0     701.854  713811.0  179987.0   \n",
              "2          C_1  2001.0        alive  436656.0  710199.000  526477.0  217699.0   \n",
              "3          C_1  2002.0        alive  396412.0     686.621  496747.0  164658.0   \n",
              "4          C_1  2003.0        alive  432204.0     709.292  523302.0  248666.0   \n",
              "\n",
              "         X5        X6         X7  ...        X11         X12         X13  \\\n",
              "0  18373.00  70658.00  89031.000  ...     35.163  201026.000     128.348   \n",
              "1  18577.00     45.79  64367.000  ...  18531.000  204065.000  115187.000   \n",
              "2  22496.00   4711.00  27207.000  ...    -58.939     139.603   77528.000   \n",
              "3  27172.00   3573.00  30745.000  ...    -12.410  124106.000   66322.000   \n",
              "4     26.68  20811.00     47.491  ...   3504.000  131884.000  104661.000   \n",
              "\n",
              "           X14       X15       X16          X17       X18  Division  \\\n",
              "0  1024333.000  372.7519  401483.0  1024333.000  935302.0         D   \n",
              "1   874255.000  377.1180  361642.0   874255.000  809888.0         D   \n",
              "2   638721.000  364.5928  399964.0   638721.000  611514.0         D   \n",
              "3   606337.000  143.3295  391633.0   606337.000  575592.0         D   \n",
              "4      651.958  308.9071  407608.0      651.958  604467.0         D   \n",
              "\n",
              "   MajorGroup  \n",
              "0          37  \n",
              "1          37  \n",
              "2          37  \n",
              "3          37  \n",
              "4          37  \n",
              "\n",
              "[5 rows x 23 columns]"
            ]
          },
          "execution_count": 3,
          "metadata": {},
          "output_type": "execute_result"
        }
      ],
      "source": [
        "df.head()"
      ]
    },
    {
      "cell_type": "code",
      "execution_count": 4,
      "metadata": {
        "colab": {
          "base_uri": "https://localhost:8080/"
        },
        "id": "ke_D6VWasnwY",
        "outputId": "02f4cf12-0f98-4070-ae99-8cf2abe22040"
      },
      "outputs": [
        {
          "data": {
            "text/plain": [
              "Index(['company_name', 'fyear', 'status_label', 'X1', 'X2', 'X3', 'X4', 'X5',\n",
              "       'X6', 'X7', 'X8', 'X9', 'X10', 'X11', 'X12', 'X13', 'X14', 'X15', 'X16',\n",
              "       'X17', 'X18', 'Division', 'MajorGroup'],\n",
              "      dtype='object')"
            ]
          },
          "execution_count": 4,
          "metadata": {},
          "output_type": "execute_result"
        }
      ],
      "source": [
        "df.columns"
      ]
    },
    {
      "cell_type": "markdown",
      "metadata": {
        "id": "mP12-M6cs5Ef"
      },
      "source": [
        "Rename columns"
      ]
    },
    {
      "cell_type": "code",
      "execution_count": 5,
      "metadata": {
        "id": "Gz3ZRBKLsoJo"
      },
      "outputs": [],
      "source": [
        "# Dictionary mapping original column names to descriptive names\n",
        "column_rename_dict = {\n",
        "    'X1': 'current_assets',\n",
        "    'X2': 'cost_of_goods_sold',\n",
        "    'X3': 'depreciation_amortization',\n",
        "    'X4': 'ebitda',\n",
        "    'X5': 'inventory',\n",
        "    'X6': 'net_income',\n",
        "    'X7': 'total_receivables',\n",
        "    'X8': 'market_value',\n",
        "    'X9': 'net_sales',\n",
        "    'X10': 'total_assets',\n",
        "    'X11': 'total_long_term_debt',\n",
        "    'X12': 'ebit',\n",
        "    'X13': 'gross_profit',\n",
        "    'X14': 'total_current_liabilities',\n",
        "    'X15': 'retained_earnings',\n",
        "    'X16': 'total_revenue',\n",
        "    'X17': 'total_liabilities',\n",
        "    'X18': 'total_operating_expenses',\n",
        "    'MajorGroup': 'major_group'\n",
        "}\n",
        "\n",
        "# Rename the columns\n",
        "df = df.rename(columns=column_rename_dict)\n",
        "df.columns = df.columns.str.lower()\n",
        "\n",
        "df['company_name'] = pd.to_numeric(df['company_name'].str.replace('C_', ''))\n",
        "\n",
        "df['status_label'] = df['status_label'] == 'failed'\n",
        "\n",
        "df['fyear'] = df['fyear'].astype(int)"
      ]
    },
    {
      "cell_type": "code",
      "execution_count": 6,
      "metadata": {
        "colab": {
          "base_uri": "https://localhost:8080/",
          "height": 256
        },
        "id": "yNGyqzDGs6rX",
        "outputId": "0e55a1be-4a68-4384-a33a-d2031de14dd2"
      },
      "outputs": [
        {
          "data": {
            "text/html": [
              "<div>\n",
              "<style scoped>\n",
              "    .dataframe tbody tr th:only-of-type {\n",
              "        vertical-align: middle;\n",
              "    }\n",
              "\n",
              "    .dataframe tbody tr th {\n",
              "        vertical-align: top;\n",
              "    }\n",
              "\n",
              "    .dataframe thead th {\n",
              "        text-align: right;\n",
              "    }\n",
              "</style>\n",
              "<table border=\"1\" class=\"dataframe\">\n",
              "  <thead>\n",
              "    <tr style=\"text-align: right;\">\n",
              "      <th></th>\n",
              "      <th>company_name</th>\n",
              "      <th>fyear</th>\n",
              "      <th>status_label</th>\n",
              "      <th>current_assets</th>\n",
              "      <th>cost_of_goods_sold</th>\n",
              "      <th>depreciation_amortization</th>\n",
              "      <th>ebitda</th>\n",
              "      <th>inventory</th>\n",
              "      <th>net_income</th>\n",
              "      <th>total_receivables</th>\n",
              "      <th>...</th>\n",
              "      <th>total_long_term_debt</th>\n",
              "      <th>ebit</th>\n",
              "      <th>gross_profit</th>\n",
              "      <th>total_current_liabilities</th>\n",
              "      <th>retained_earnings</th>\n",
              "      <th>total_revenue</th>\n",
              "      <th>total_liabilities</th>\n",
              "      <th>total_operating_expenses</th>\n",
              "      <th>division</th>\n",
              "      <th>major_group</th>\n",
              "    </tr>\n",
              "  </thead>\n",
              "  <tbody>\n",
              "    <tr>\n",
              "      <th>0</th>\n",
              "      <td>1</td>\n",
              "      <td>1999</td>\n",
              "      <td>False</td>\n",
              "      <td>511267.0</td>\n",
              "      <td>740998.000</td>\n",
              "      <td>833107.0</td>\n",
              "      <td>180447.0</td>\n",
              "      <td>18373.00</td>\n",
              "      <td>70658.00</td>\n",
              "      <td>89031.000</td>\n",
              "      <td>...</td>\n",
              "      <td>35.163</td>\n",
              "      <td>201026.000</td>\n",
              "      <td>128.348</td>\n",
              "      <td>1024333.000</td>\n",
              "      <td>372.7519</td>\n",
              "      <td>401483.0</td>\n",
              "      <td>1024333.000</td>\n",
              "      <td>935302.0</td>\n",
              "      <td>D</td>\n",
              "      <td>37</td>\n",
              "    </tr>\n",
              "    <tr>\n",
              "      <th>1</th>\n",
              "      <td>1</td>\n",
              "      <td>2000</td>\n",
              "      <td>False</td>\n",
              "      <td>485856.0</td>\n",
              "      <td>701.854</td>\n",
              "      <td>713811.0</td>\n",
              "      <td>179987.0</td>\n",
              "      <td>18577.00</td>\n",
              "      <td>45.79</td>\n",
              "      <td>64367.000</td>\n",
              "      <td>...</td>\n",
              "      <td>18531.000</td>\n",
              "      <td>204065.000</td>\n",
              "      <td>115187.000</td>\n",
              "      <td>874255.000</td>\n",
              "      <td>377.1180</td>\n",
              "      <td>361642.0</td>\n",
              "      <td>874255.000</td>\n",
              "      <td>809888.0</td>\n",
              "      <td>D</td>\n",
              "      <td>37</td>\n",
              "    </tr>\n",
              "    <tr>\n",
              "      <th>2</th>\n",
              "      <td>1</td>\n",
              "      <td>2001</td>\n",
              "      <td>False</td>\n",
              "      <td>436656.0</td>\n",
              "      <td>710199.000</td>\n",
              "      <td>526477.0</td>\n",
              "      <td>217699.0</td>\n",
              "      <td>22496.00</td>\n",
              "      <td>4711.00</td>\n",
              "      <td>27207.000</td>\n",
              "      <td>...</td>\n",
              "      <td>-58.939</td>\n",
              "      <td>139.603</td>\n",
              "      <td>77528.000</td>\n",
              "      <td>638721.000</td>\n",
              "      <td>364.5928</td>\n",
              "      <td>399964.0</td>\n",
              "      <td>638721.000</td>\n",
              "      <td>611514.0</td>\n",
              "      <td>D</td>\n",
              "      <td>37</td>\n",
              "    </tr>\n",
              "    <tr>\n",
              "      <th>3</th>\n",
              "      <td>1</td>\n",
              "      <td>2002</td>\n",
              "      <td>False</td>\n",
              "      <td>396412.0</td>\n",
              "      <td>686.621</td>\n",
              "      <td>496747.0</td>\n",
              "      <td>164658.0</td>\n",
              "      <td>27172.00</td>\n",
              "      <td>3573.00</td>\n",
              "      <td>30745.000</td>\n",
              "      <td>...</td>\n",
              "      <td>-12.410</td>\n",
              "      <td>124106.000</td>\n",
              "      <td>66322.000</td>\n",
              "      <td>606337.000</td>\n",
              "      <td>143.3295</td>\n",
              "      <td>391633.0</td>\n",
              "      <td>606337.000</td>\n",
              "      <td>575592.0</td>\n",
              "      <td>D</td>\n",
              "      <td>37</td>\n",
              "    </tr>\n",
              "    <tr>\n",
              "      <th>4</th>\n",
              "      <td>1</td>\n",
              "      <td>2003</td>\n",
              "      <td>False</td>\n",
              "      <td>432204.0</td>\n",
              "      <td>709.292</td>\n",
              "      <td>523302.0</td>\n",
              "      <td>248666.0</td>\n",
              "      <td>26.68</td>\n",
              "      <td>20811.00</td>\n",
              "      <td>47.491</td>\n",
              "      <td>...</td>\n",
              "      <td>3504.000</td>\n",
              "      <td>131884.000</td>\n",
              "      <td>104661.000</td>\n",
              "      <td>651.958</td>\n",
              "      <td>308.9071</td>\n",
              "      <td>407608.0</td>\n",
              "      <td>651.958</td>\n",
              "      <td>604467.0</td>\n",
              "      <td>D</td>\n",
              "      <td>37</td>\n",
              "    </tr>\n",
              "  </tbody>\n",
              "</table>\n",
              "<p>5 rows × 23 columns</p>\n",
              "</div>"
            ],
            "text/plain": [
              "   company_name  fyear  status_label  current_assets  cost_of_goods_sold  \\\n",
              "0             1   1999         False        511267.0          740998.000   \n",
              "1             1   2000         False        485856.0             701.854   \n",
              "2             1   2001         False        436656.0          710199.000   \n",
              "3             1   2002         False        396412.0             686.621   \n",
              "4             1   2003         False        432204.0             709.292   \n",
              "\n",
              "   depreciation_amortization    ebitda  inventory  net_income  \\\n",
              "0                   833107.0  180447.0   18373.00    70658.00   \n",
              "1                   713811.0  179987.0   18577.00       45.79   \n",
              "2                   526477.0  217699.0   22496.00     4711.00   \n",
              "3                   496747.0  164658.0   27172.00     3573.00   \n",
              "4                   523302.0  248666.0      26.68    20811.00   \n",
              "\n",
              "   total_receivables  ...  total_long_term_debt        ebit  gross_profit  \\\n",
              "0          89031.000  ...                35.163  201026.000       128.348   \n",
              "1          64367.000  ...             18531.000  204065.000    115187.000   \n",
              "2          27207.000  ...               -58.939     139.603     77528.000   \n",
              "3          30745.000  ...               -12.410  124106.000     66322.000   \n",
              "4             47.491  ...              3504.000  131884.000    104661.000   \n",
              "\n",
              "   total_current_liabilities  retained_earnings  total_revenue  \\\n",
              "0                1024333.000           372.7519       401483.0   \n",
              "1                 874255.000           377.1180       361642.0   \n",
              "2                 638721.000           364.5928       399964.0   \n",
              "3                 606337.000           143.3295       391633.0   \n",
              "4                    651.958           308.9071       407608.0   \n",
              "\n",
              "   total_liabilities  total_operating_expenses  division  major_group  \n",
              "0        1024333.000                  935302.0         D           37  \n",
              "1         874255.000                  809888.0         D           37  \n",
              "2         638721.000                  611514.0         D           37  \n",
              "3         606337.000                  575592.0         D           37  \n",
              "4            651.958                  604467.0         D           37  \n",
              "\n",
              "[5 rows x 23 columns]"
            ]
          },
          "execution_count": 6,
          "metadata": {},
          "output_type": "execute_result"
        }
      ],
      "source": [
        "df.head()"
      ]
    },
    {
      "cell_type": "markdown",
      "metadata": {
        "id": "pmVseotws8f-"
      },
      "source": [
        "# EDA"
      ]
    },
    {
      "cell_type": "code",
      "execution_count": 7,
      "metadata": {
        "colab": {
          "base_uri": "https://localhost:8080/"
        },
        "id": "LtF2d0jDs-iU",
        "outputId": "bb621604-e1e7-4db8-f894-0f01c39e34ee"
      },
      "outputs": [
        {
          "data": {
            "text/plain": [
              "(78682, 23)"
            ]
          },
          "execution_count": 7,
          "metadata": {},
          "output_type": "execute_result"
        }
      ],
      "source": [
        "df.shape"
      ]
    },
    {
      "cell_type": "code",
      "execution_count": 8,
      "metadata": {
        "colab": {
          "base_uri": "https://localhost:8080/"
        },
        "id": "AtKEWErrs6_L",
        "outputId": "4a1e187e-210f-48fd-bba0-156020fe0d18"
      },
      "outputs": [
        {
          "data": {
            "text/plain": [
              "8971"
            ]
          },
          "execution_count": 8,
          "metadata": {},
          "output_type": "execute_result"
        }
      ],
      "source": [
        "df['company_name'].nunique()"
      ]
    },
    {
      "cell_type": "code",
      "execution_count": 9,
      "metadata": {
        "colab": {
          "base_uri": "https://localhost:8080/",
          "height": 178
        },
        "id": "EJfpDQZ-tBR8",
        "outputId": "f3e01897-0a03-45ec-9f92-d13c8eb8fbb7"
      },
      "outputs": [
        {
          "data": {
            "text/plain": [
              "status_label\n",
              "False    0.933657\n",
              "True     0.066343\n",
              "Name: proportion, dtype: float64"
            ]
          },
          "execution_count": 9,
          "metadata": {},
          "output_type": "execute_result"
        }
      ],
      "source": [
        "df['status_label'].value_counts(normalize=True)"
      ]
    },
    {
      "cell_type": "code",
      "execution_count": 10,
      "metadata": {
        "colab": {
          "base_uri": "https://localhost:8080/",
          "height": 429
        },
        "id": "DQ5g2jkXuuRK",
        "outputId": "b82719cb-e96b-440c-cc26-b78ceb8cc5af"
      },
      "outputs": [
        {
          "data": {
            "text/plain": [
              "division\n",
              "D    0.487837\n",
              "I    0.217941\n",
              "E    0.091546\n",
              "G    0.072380\n",
              "B    0.053138\n",
              "F    0.037353\n",
              "H    0.026181\n",
              "C    0.009163\n",
              "A    0.004296\n",
              "J    0.000165\n",
              "Name: proportion, dtype: float64"
            ]
          },
          "execution_count": 10,
          "metadata": {},
          "output_type": "execute_result"
        }
      ],
      "source": [
        "df['division'].value_counts(normalize=True)"
      ]
    },
    {
      "cell_type": "markdown",
      "metadata": {
        "id": "Iu_zTiNHu2oQ"
      },
      "source": [
        "The division applies to the company as a whole, so presumably it's the sector they're in."
      ]
    },
    {
      "cell_type": "code",
      "execution_count": 11,
      "metadata": {
        "colab": {
          "base_uri": "https://localhost:8080/"
        },
        "id": "325kepkNuxSn",
        "outputId": "53a907fb-c1b4-4d36-dd2a-0ec796445883"
      },
      "outputs": [
        {
          "data": {
            "text/plain": [
              "np.int64(1)"
            ]
          },
          "execution_count": 11,
          "metadata": {},
          "output_type": "execute_result"
        }
      ],
      "source": [
        "df.groupby('company_name')['division'].nunique().max()"
      ]
    },
    {
      "cell_type": "code",
      "execution_count": 12,
      "metadata": {
        "id": "TWre5dMrvAZc"
      },
      "outputs": [],
      "source": [
        "division_le = LabelEncoder()\n",
        "df['division'] = division_le.fit_transform(df['division'])"
      ]
    },
    {
      "cell_type": "code",
      "execution_count": 13,
      "metadata": {
        "colab": {
          "base_uri": "https://localhost:8080/",
          "height": 490
        },
        "id": "xMkns5KUvDzX",
        "outputId": "aeac9c81-0ceb-40e7-d747-9fb2d36e1168"
      },
      "outputs": [
        {
          "data": {
            "text/plain": [
              "major_group\n",
              "73    0.142167\n",
              "28    0.107496\n",
              "36    0.090402\n",
              "38    0.081721\n",
              "35    0.057955\n",
              "        ...   \n",
              "41    0.000254\n",
              "8     0.000254\n",
              "99    0.000165\n",
              "46    0.000089\n",
              "86    0.000051\n",
              "Name: proportion, Length: 73, dtype: float64"
            ]
          },
          "execution_count": 13,
          "metadata": {},
          "output_type": "execute_result"
        }
      ],
      "source": [
        "df['major_group'].value_counts(normalize=True)"
      ]
    },
    {
      "cell_type": "code",
      "execution_count": 14,
      "metadata": {
        "colab": {
          "base_uri": "https://localhost:8080/"
        },
        "id": "8EsHCY7MvHag",
        "outputId": "aa148b29-886e-4118-8785-133595ef4095"
      },
      "outputs": [
        {
          "data": {
            "text/plain": [
              "np.int64(1)"
            ]
          },
          "execution_count": 14,
          "metadata": {},
          "output_type": "execute_result"
        }
      ],
      "source": [
        "df.groupby('company_name')['major_group'].nunique().max()"
      ]
    },
    {
      "cell_type": "markdown",
      "metadata": {
        "id": "AETSGaJbvMiX"
      },
      "source": [
        "Similar comment here"
      ]
    },
    {
      "cell_type": "code",
      "execution_count": 15,
      "metadata": {
        "id": "PLbLuNWSvPEw"
      },
      "outputs": [],
      "source": [
        "major_group_le = LabelEncoder()\n",
        "df['major_group'] = major_group_le.fit_transform(df['major_group'])"
      ]
    },
    {
      "cell_type": "markdown",
      "metadata": {
        "id": "JT_1Fd_mvWSF"
      },
      "source": [
        "Right now I just label encoded, but if either of these columns end up being useful we should instead one-hot encode them."
      ]
    },
    {
      "cell_type": "markdown",
      "metadata": {
        "id": "6HdU7o47v-4h"
      },
      "source": [
        "## Missing values"
      ]
    },
    {
      "cell_type": "code",
      "execution_count": 16,
      "metadata": {
        "colab": {
          "base_uri": "https://localhost:8080/"
        },
        "id": "I9qYdMpEwATc",
        "outputId": "d1a31024-5fe4-47e1-b922-eb9199e57393"
      },
      "outputs": [
        {
          "data": {
            "text/plain": [
              "np.int64(0)"
            ]
          },
          "execution_count": 16,
          "metadata": {},
          "output_type": "execute_result"
        }
      ],
      "source": [
        "df.isna().sum().max()"
      ]
    },
    {
      "cell_type": "code",
      "execution_count": 17,
      "metadata": {
        "colab": {
          "base_uri": "https://localhost:8080/"
        },
        "id": "7brQkgpOwDOD",
        "outputId": "1b708273-f0d1-4ea6-d6e5-cc2d8318233b"
      },
      "outputs": [
        {
          "data": {
            "text/plain": [
              "Index([], dtype='object')"
            ]
          },
          "execution_count": 17,
          "metadata": {},
          "output_type": "execute_result"
        }
      ],
      "source": [
        "df.columns[df.max() == np.inf]"
      ]
    },
    {
      "cell_type": "markdown",
      "metadata": {
        "id": "hwbVkyOttVBZ"
      },
      "source": [
        "# Feature engineering"
      ]
    },
    {
      "cell_type": "code",
      "execution_count": 18,
      "metadata": {
        "id": "Qt7l67cZtH5s"
      },
      "outputs": [],
      "source": [
        "df['R_GrossProfitMargin'] = df['gross_profit']/df['total_revenue']\n",
        "df['R_NetProfitMargin'] = df['net_income']/df['total_revenue']\n",
        "df['R_ReturnOnAssets'] = df['net_income']/df['total_assets']\n",
        "df['R_ReturnOnEquity'] = df['net_income']/(df['total_assets'] - df['total_liabilities'])\n",
        "df['R_CurrentRatio'] = df['current_assets']/df['total_current_liabilities']\n",
        "df['R_QuickRatio'] = (df['current_assets'] - df['inventory'])/df['total_current_liabilities']\n",
        "df['R_DebtToEquityRatio'] = df['total_liabilities']/(df['total_assets'] - df['total_liabilities'])\n",
        "df['R_DebtRatio'] = df['total_liabilities']/df['total_assets']\n",
        "df['R_InterestCoverageRatio'] = df['ebit']/df['total_long_term_debt']\n",
        "df['R_CashFlowToDebtRatio'] = df['ebitda']/df['total_liabilities']"
      ]
    },
    {
      "cell_type": "code",
      "execution_count": 19,
      "metadata": {
        "id": "tpjp6RtYtWi0"
      },
      "outputs": [],
      "source": [
        "identifier_cols = ['company_name', 'fyear', 'status_label', 'division', 'major_group']\n",
        "ratio_cols = [col for col in df.columns if col.startswith('R_')]\n",
        "\n",
        "ratio_df = df[identifier_cols + ratio_cols]"
      ]
    },
    {
      "cell_type": "code",
      "execution_count": 20,
      "metadata": {
        "colab": {
          "base_uri": "https://localhost:8080/"
        },
        "id": "t_vwDdPfwXyL",
        "outputId": "a79ad2be-add6-4767-9f5f-fc58789a6b44"
      },
      "outputs": [
        {
          "data": {
            "text/plain": [
              "Index(['R_DebtToEquityRatio', 'R_InterestCoverageRatio'], dtype='object')"
            ]
          },
          "execution_count": 20,
          "metadata": {},
          "output_type": "execute_result"
        }
      ],
      "source": [
        "ratio_df.columns[ratio_df.max() == np.inf]"
      ]
    },
    {
      "cell_type": "markdown",
      "metadata": {
        "id": "-4t26HoewaGS"
      },
      "source": [
        "These two columns have `inf` values, probably because we're dividing by zero. Two companies have assets equaling liabilities."
      ]
    },
    {
      "cell_type": "code",
      "execution_count": 21,
      "metadata": {
        "colab": {
          "base_uri": "https://localhost:8080/"
        },
        "id": "UgP-zJ8xwdzH",
        "outputId": "62944567-ddeb-43fc-8f48-d6253d737105"
      },
      "outputs": [
        {
          "data": {
            "text/plain": [
              "np.int64(2)"
            ]
          },
          "execution_count": 21,
          "metadata": {},
          "output_type": "execute_result"
        }
      ],
      "source": [
        "(df['total_assets'] == df['total_liabilities']).sum()"
      ]
    },
    {
      "cell_type": "code",
      "execution_count": 22,
      "metadata": {
        "colab": {
          "base_uri": "https://localhost:8080/",
          "height": 112
        },
        "id": "-ToH5_jbwoaT",
        "outputId": "60370322-e001-4d48-e2a2-229347b11de6"
      },
      "outputs": [
        {
          "data": {
            "text/html": [
              "<div>\n",
              "<style scoped>\n",
              "    .dataframe tbody tr th:only-of-type {\n",
              "        vertical-align: middle;\n",
              "    }\n",
              "\n",
              "    .dataframe tbody tr th {\n",
              "        vertical-align: top;\n",
              "    }\n",
              "\n",
              "    .dataframe thead th {\n",
              "        text-align: right;\n",
              "    }\n",
              "</style>\n",
              "<table border=\"1\" class=\"dataframe\">\n",
              "  <thead>\n",
              "    <tr style=\"text-align: right;\">\n",
              "      <th></th>\n",
              "      <th>total_assets</th>\n",
              "      <th>total_liabilities</th>\n",
              "    </tr>\n",
              "  </thead>\n",
              "  <tbody>\n",
              "    <tr>\n",
              "      <th>56207</th>\n",
              "      <td>629.0</td>\n",
              "      <td>629.0</td>\n",
              "    </tr>\n",
              "    <tr>\n",
              "      <th>76050</th>\n",
              "      <td>584.0</td>\n",
              "      <td>584.0</td>\n",
              "    </tr>\n",
              "  </tbody>\n",
              "</table>\n",
              "</div>"
            ],
            "text/plain": [
              "       total_assets  total_liabilities\n",
              "56207         629.0              629.0\n",
              "76050         584.0              584.0"
            ]
          },
          "execution_count": 22,
          "metadata": {},
          "output_type": "execute_result"
        }
      ],
      "source": [
        "df[df['total_assets'] == df['total_liabilities']][['total_assets', 'total_liabilities']]"
      ]
    },
    {
      "cell_type": "markdown",
      "metadata": {
        "id": "Segqrjc-wwU9"
      },
      "source": [
        "Replace these debt to asset ratios with the value at the 99th percentile."
      ]
    },
    {
      "cell_type": "code",
      "execution_count": 23,
      "metadata": {
        "id": "NQgGJdRDw1Le"
      },
      "outputs": [],
      "source": [
        "ratio_df.loc[ratio_df['R_DebtToEquityRatio'] > ratio_df['R_DebtToEquityRatio'].quantile(0.99), 'R_DebtToEquityRatio'] = ratio_df['R_DebtToEquityRatio'].quantile(0.99)\n",
        "ratio_df.loc[ratio_df['R_InterestCoverageRatio'] > ratio_df['R_InterestCoverageRatio'].quantile(0.99), 'R_InterestCoverageRatio'] = ratio_df['R_InterestCoverageRatio'].quantile(0.99)"
      ]
    },
    {
      "cell_type": "code",
      "execution_count": 24,
      "metadata": {
        "id": "mbxG7nPRTd-d"
      },
      "outputs": [],
      "source": [
        "ratio_df.loc[ratio_df['R_DebtToEquityRatio'] < ratio_df['R_DebtToEquityRatio'].quantile(0.01), 'R_DebtToEquityRatio'] = ratio_df['R_DebtToEquityRatio'].quantile(0.01)\n",
        "ratio_df.loc[ratio_df['R_InterestCoverageRatio'] < ratio_df['R_InterestCoverageRatio'].quantile(0.01), 'R_InterestCoverageRatio'] = ratio_df['R_InterestCoverageRatio'].quantile(0.01)\n",
        "ratio_df.loc[ratio_df['R_ReturnOnEquity'] < ratio_df['R_ReturnOnEquity'].quantile(0.01), 'R_ReturnOnEquity'] = ratio_df['R_ReturnOnEquity'].quantile(0.01)"
      ]
    },
    {
      "cell_type": "code",
      "execution_count": 25,
      "metadata": {
        "colab": {
          "base_uri": "https://localhost:8080/",
          "height": 206
        },
        "id": "Iacybe0LtfIv",
        "outputId": "8bfa9fc7-68c7-44ab-be06-2f0bbe123a30"
      },
      "outputs": [
        {
          "data": {
            "text/html": [
              "<div>\n",
              "<style scoped>\n",
              "    .dataframe tbody tr th:only-of-type {\n",
              "        vertical-align: middle;\n",
              "    }\n",
              "\n",
              "    .dataframe tbody tr th {\n",
              "        vertical-align: top;\n",
              "    }\n",
              "\n",
              "    .dataframe thead th {\n",
              "        text-align: right;\n",
              "    }\n",
              "</style>\n",
              "<table border=\"1\" class=\"dataframe\">\n",
              "  <thead>\n",
              "    <tr style=\"text-align: right;\">\n",
              "      <th></th>\n",
              "      <th>company_name</th>\n",
              "      <th>fyear</th>\n",
              "      <th>status_label</th>\n",
              "      <th>division</th>\n",
              "      <th>major_group</th>\n",
              "      <th>R_GrossProfitMargin</th>\n",
              "      <th>R_NetProfitMargin</th>\n",
              "      <th>R_ReturnOnAssets</th>\n",
              "      <th>R_ReturnOnEquity</th>\n",
              "      <th>R_CurrentRatio</th>\n",
              "      <th>R_QuickRatio</th>\n",
              "      <th>R_DebtToEquityRatio</th>\n",
              "      <th>R_DebtRatio</th>\n",
              "      <th>R_InterestCoverageRatio</th>\n",
              "      <th>R_CashFlowToDebtRatio</th>\n",
              "    </tr>\n",
              "  </thead>\n",
              "  <tbody>\n",
              "    <tr>\n",
              "      <th>0</th>\n",
              "      <td>1</td>\n",
              "      <td>1999</td>\n",
              "      <td>False</td>\n",
              "      <td>3</td>\n",
              "      <td>29</td>\n",
              "      <td>0.000320</td>\n",
              "      <td>0.175993</td>\n",
              "      <td>0.431325</td>\n",
              "      <td>-0.082111</td>\n",
              "      <td>0.499122</td>\n",
              "      <td>0.481185</td>\n",
              "      <td>-1.190369</td>\n",
              "      <td>6.252948</td>\n",
              "      <td>5716.975230</td>\n",
              "      <td>0.176160</td>\n",
              "    </tr>\n",
              "    <tr>\n",
              "      <th>1</th>\n",
              "      <td>1</td>\n",
              "      <td>2000</td>\n",
              "      <td>False</td>\n",
              "      <td>3</td>\n",
              "      <td>29</td>\n",
              "      <td>0.318511</td>\n",
              "      <td>0.000127</td>\n",
              "      <td>0.000365</td>\n",
              "      <td>-0.000061</td>\n",
              "      <td>0.555737</td>\n",
              "      <td>0.534488</td>\n",
              "      <td>-1.167443</td>\n",
              "      <td>6.972175</td>\n",
              "      <td>11.012088</td>\n",
              "      <td>0.205875</td>\n",
              "    </tr>\n",
              "    <tr>\n",
              "      <th>2</th>\n",
              "      <td>1</td>\n",
              "      <td>2001</td>\n",
              "      <td>False</td>\n",
              "      <td>3</td>\n",
              "      <td>29</td>\n",
              "      <td>0.193837</td>\n",
              "      <td>0.011779</td>\n",
              "      <td>0.031310</td>\n",
              "      <td>-0.009649</td>\n",
              "      <td>0.683641</td>\n",
              "      <td>0.648421</td>\n",
              "      <td>-1.308166</td>\n",
              "      <td>4.245009</td>\n",
              "      <td>-2.368601</td>\n",
              "      <td>0.340836</td>\n",
              "    </tr>\n",
              "    <tr>\n",
              "      <th>3</th>\n",
              "      <td>1</td>\n",
              "      <td>2002</td>\n",
              "      <td>False</td>\n",
              "      <td>3</td>\n",
              "      <td>29</td>\n",
              "      <td>0.169347</td>\n",
              "      <td>0.009123</td>\n",
              "      <td>0.017551</td>\n",
              "      <td>-0.008871</td>\n",
              "      <td>0.653782</td>\n",
              "      <td>0.608968</td>\n",
              "      <td>-1.505447</td>\n",
              "      <td>2.978445</td>\n",
              "      <td>-10000.483481</td>\n",
              "      <td>0.271562</td>\n",
              "    </tr>\n",
              "    <tr>\n",
              "      <th>4</th>\n",
              "      <td>1</td>\n",
              "      <td>2003</td>\n",
              "      <td>False</td>\n",
              "      <td>3</td>\n",
              "      <td>29</td>\n",
              "      <td>0.256769</td>\n",
              "      <td>0.051056</td>\n",
              "      <td>0.158547</td>\n",
              "      <td>0.159338</td>\n",
              "      <td>662.932275</td>\n",
              "      <td>662.891352</td>\n",
              "      <td>0.004992</td>\n",
              "      <td>0.004967</td>\n",
              "      <td>37.638128</td>\n",
              "      <td>381.414140</td>\n",
              "    </tr>\n",
              "  </tbody>\n",
              "</table>\n",
              "</div>"
            ],
            "text/plain": [
              "   company_name  fyear  status_label  division  major_group  \\\n",
              "0             1   1999         False         3           29   \n",
              "1             1   2000         False         3           29   \n",
              "2             1   2001         False         3           29   \n",
              "3             1   2002         False         3           29   \n",
              "4             1   2003         False         3           29   \n",
              "\n",
              "   R_GrossProfitMargin  R_NetProfitMargin  R_ReturnOnAssets  R_ReturnOnEquity  \\\n",
              "0             0.000320           0.175993          0.431325         -0.082111   \n",
              "1             0.318511           0.000127          0.000365         -0.000061   \n",
              "2             0.193837           0.011779          0.031310         -0.009649   \n",
              "3             0.169347           0.009123          0.017551         -0.008871   \n",
              "4             0.256769           0.051056          0.158547          0.159338   \n",
              "\n",
              "   R_CurrentRatio  R_QuickRatio  R_DebtToEquityRatio  R_DebtRatio  \\\n",
              "0        0.499122      0.481185            -1.190369     6.252948   \n",
              "1        0.555737      0.534488            -1.167443     6.972175   \n",
              "2        0.683641      0.648421            -1.308166     4.245009   \n",
              "3        0.653782      0.608968            -1.505447     2.978445   \n",
              "4      662.932275    662.891352             0.004992     0.004967   \n",
              "\n",
              "   R_InterestCoverageRatio  R_CashFlowToDebtRatio  \n",
              "0              5716.975230               0.176160  \n",
              "1                11.012088               0.205875  \n",
              "2                -2.368601               0.340836  \n",
              "3            -10000.483481               0.271562  \n",
              "4                37.638128             381.414140  "
            ]
          },
          "execution_count": 25,
          "metadata": {},
          "output_type": "execute_result"
        }
      ],
      "source": [
        "ratio_df.head()"
      ]
    },
    {
      "cell_type": "code",
      "execution_count": 26,
      "metadata": {
        "id": "borK2Ht8xDJv"
      },
      "outputs": [],
      "source": [
        "assert ratio_df.isna().sum().max() == 0, \"Missing values in ratio_df\"\n",
        "assert (ratio_df.max() == np.inf).sum().max() == 0, \"inf values in ratio_df\"\n",
        "assert (ratio_df.min() == -np.inf).sum().max() == 0, \"-inf values in ratio_df\""
      ]
    },
    {
      "cell_type": "markdown",
      "metadata": {
        "id": "Mmn0ZLxwYThz"
      },
      "source": [
        "Scaling"
      ]
    },
    {
      "cell_type": "code",
      "execution_count": 27,
      "metadata": {
        "id": "pfka33FmxT_H"
      },
      "outputs": [],
      "source": [
        "scaler = StandardScaler()\n",
        "ratio_df.loc[:, ratio_cols] = scaler.fit_transform(ratio_df.loc[:, ratio_cols])"
      ]
    },
    {
      "cell_type": "markdown",
      "metadata": {
        "id": "3wlgYcSrXvwN"
      },
      "source": [
        "Quantization"
      ]
    },
    {
      "cell_type": "code",
      "execution_count": 28,
      "metadata": {
        "id": "_t8fYRjDXs57"
      },
      "outputs": [],
      "source": [
        "ratio_df.loc[:, ratio_df.select_dtypes('float').columns] = ratio_df.select_dtypes('float').astype('float16')\n",
        "ratio_df.loc[:, ratio_df.select_dtypes('int').columns] = ratio_df.select_dtypes('int').astype('uint16')"
      ]
    },
    {
      "cell_type": "code",
      "execution_count": 29,
      "metadata": {},
      "outputs": [],
      "source": [
        "ratio_df.to_csv('data/american_bankruptcy_dataset_ratio.csv', index=False)"
      ]
    }
  ],
  "metadata": {
    "colab": {
      "provenance": []
    },
    "kernelspec": {
      "display_name": "venv",
      "language": "python",
      "name": "python3"
    },
    "language_info": {
      "codemirror_mode": {
        "name": "ipython",
        "version": 3
      },
      "file_extension": ".py",
      "mimetype": "text/x-python",
      "name": "python",
      "nbconvert_exporter": "python",
      "pygments_lexer": "ipython3",
      "version": "3.12.8"
    }
  },
  "nbformat": 4,
  "nbformat_minor": 0
}
